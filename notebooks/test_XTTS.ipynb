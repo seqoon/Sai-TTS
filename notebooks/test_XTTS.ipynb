{
 "cells": [
  {
   "cell_type": "markdown",
   "metadata": {},
   "source": [
    "# Test XTTS Model"
   ]
  },
  {
   "cell_type": "markdown",
   "metadata": {},
   "source": [
    "## Improt Moduels "
   ]
  },
  {
   "cell_type": "code",
   "execution_count": 1,
   "metadata": {},
   "outputs": [],
   "source": [
    "import os\n",
    "import torch\n",
    "import torchaudio\n",
    "from TTS.tts.configs.xtts_config import XttsConfig\n",
    "from TTS.tts.models.xtts import Xtts\n",
    "    "
   ]
  },
  {
   "cell_type": "markdown",
   "metadata": {},
   "source": [
    "## CONST VARIBALES"
   ]
  },
  {
   "cell_type": "code",
   "execution_count": 51,
   "metadata": {},
   "outputs": [],
   "source": [
    "TEXT_SENTENCE = \"أهلا أنا صاي مساعدك الرقمي أقدر أساعدك أزاي\"\n",
    "LANGUAGE = \"ar\"\n",
    "TEMPERATURE = 0.60\n"
   ]
  },
  {
   "cell_type": "markdown",
   "metadata": {},
   "source": [
    "## LOAD CHEKPT"
   ]
  },
  {
   "cell_type": "code",
   "execution_count": 45,
   "metadata": {},
   "outputs": [],
   "source": [
    "CONFIG_PATH = \"../models/new_test/ckpt_test/config.json\"\n",
    "TOKENIZER_PATH = \"../models/new_test/ckpt_test/vocab.json\"\n",
    "XTTS_CHECKPOINT = \"../models/new_test/ckpt_test/best_model_24795.pth\"\n",
    "CHKPT_DIR = \"../models/new_test/ckpt_test\""
   ]
  },
  {
   "cell_type": "markdown",
   "metadata": {},
   "source": [
    "## LOAD SPEAKER REFERENCE"
   ]
  },
  {
   "cell_type": "code",
   "execution_count": 35,
   "metadata": {},
   "outputs": [],
   "source": [
    "SPEAKER_REFERENCE = \"/home/abdelrahman-khaled/Projects/SpeechProjects/SeqoonTTS/Data/EGY_conv_speech_corpus/wavs/A0003_S002_0_G0002_077.wav\""
   ]
  },
  {
   "cell_type": "markdown",
   "metadata": {},
   "source": [
    "## OUTPUT PATH "
   ]
  },
  {
   "cell_type": "code",
   "execution_count": 52,
   "metadata": {},
   "outputs": [],
   "source": [
    "OUTPUT_WAV_PATH = \"/home/abdelrahman-khaled/Projects/SpeechProjects/SeqoonTTS/wavs/model_outputs/example_output_2.wav\""
   ]
  },
  {
   "cell_type": "markdown",
   "metadata": {},
   "source": [
    "## INFRANCE  "
   ]
  },
  {
   "cell_type": "code",
   "execution_count": 53,
   "metadata": {},
   "outputs": [
    {
     "name": "stdout",
     "output_type": "stream",
     "text": [
      "Loading model...\n",
      "Computing speaker latents...\n",
      "Inference...\n"
     ]
    }
   ],
   "source": [
    "print(\"Loading model...\")\n",
    "config = XttsConfig()\n",
    "config.load_json(CONFIG_PATH)\n",
    "model = Xtts.init_from_config(config)\n",
    "model.load_checkpoint(config, checkpoint_path=XTTS_CHECKPOINT, vocab_path=TOKENIZER_PATH, use_deepspeed=False, speaker_file_path=\"\", checkpoint_dir=CHKPT_DIR)\n",
    "model.cuda()\n",
    "\n",
    "print(\"Computing speaker latents...\")\n",
    "gpt_cond_latent, speaker_embedding = model.get_conditioning_latents(audio_path=[SPEAKER_REFERENCE])\n",
    "\n",
    "print(\"Inference...\")\n",
    "out = model.inference(\n",
    "        text=TEXT_SENTENCE,\n",
    "        language=\"ar\",  # Arabic\n",
    "        gpt_cond_latent=gpt_cond_latent,\n",
    "        speaker_embedding=speaker_embedding,\n",
    "        temperature=0.65,                     #range-> 0.55:0.75\n",
    "        length_penalty=1.0,\n",
    "        repetition_penalty=2.0,\n",
    "        top_k=50,\n",
    "        top_p=0.8,\n",
    "        speed=1.0,\n",
    ")\n"
   ]
  },
  {
   "cell_type": "markdown",
   "metadata": {},
   "source": [
    "## SAVE WAV"
   ]
  },
  {
   "cell_type": "code",
   "execution_count": 54,
   "metadata": {},
   "outputs": [],
   "source": [
    "torchaudio.save(OUTPUT_WAV_PATH, torch.tensor(out[\"wav\"]).unsqueeze(0), 24000)"
   ]
  },
  {
   "cell_type": "markdown",
   "metadata": {},
   "source": [
    "## DISPLAY WAV"
   ]
  },
  {
   "cell_type": "code",
   "execution_count": null,
   "metadata": {},
   "outputs": [],
   "source": [
    "import IPython\n",
    "IPython.display.Audio(\"\")"
   ]
  },
  {
   "cell_type": "markdown",
   "metadata": {},
   "source": [
    "## DOWNLOAD ORIGINAL CKPT  "
   ]
  },
  {
   "cell_type": "code",
   "execution_count": null,
   "metadata": {},
   "outputs": [],
   "source": [
    "!wget https://github.com/coqui-ai/TTS/releases/download/speaker_encoder_model/config_se.json\n",
    "!wget https://github.com/coqui-ai/TTS/releases/download/speaker_encoder_model/model_se.pth.tar"
   ]
  },
  {
   "cell_type": "markdown",
   "metadata": {},
   "source": [
    "## INFRANCE ORIGINAL MODEL"
   ]
  },
  {
   "cell_type": "code",
   "execution_count": null,
   "metadata": {},
   "outputs": [],
   "source": [
    "!tts --model_name tts_models/multilingual/multi-dataset/xtts_v2 \\\n",
    "--encoder_path model_se.pth.tar \\\n",
    "--encoder_config config_se.json \\   \n",
    "--speaker_wav ../SPEAKER_REF_WAVS/LJ001-0001.wav \\\n",
    "--text \"123 ممكن تِزودْني باسمْ المركزْ اللي حابْ أحْجزْ لكْ فيهْ\"\\\n",
    "--out_path ../wavs/model_outputs/spkr-old20.wav \\\n",
    "--language_idx \"ar\""
   ]
  },
  {
   "cell_type": "markdown",
   "metadata": {},
   "source": [
    "## DISPLAY WAV"
   ]
  },
  {
   "cell_type": "code",
   "execution_count": null,
   "metadata": {},
   "outputs": [],
   "source": [
    "import IPython\n",
    "IPython.display.Audio(\"\")"
   ]
  }
 ],
 "metadata": {
  "kernelspec": {
   "display_name": "SpeechEnv",
   "language": "python",
   "name": "python3"
  },
  "language_info": {
   "codemirror_mode": {
    "name": "ipython",
    "version": 3
   },
   "file_extension": ".py",
   "mimetype": "text/x-python",
   "name": "python",
   "nbconvert_exporter": "python",
   "pygments_lexer": "ipython3",
   "version": "3.10.18"
  }
 },
 "nbformat": 4,
 "nbformat_minor": 2
}
